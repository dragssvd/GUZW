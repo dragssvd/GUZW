{
 "cells": [
  {
   "cell_type": "markdown",
   "metadata": {},
   "source": [
    "# Laboratorium 4 (4 pkt.)\n",
    "\n",
    "Celem czwartego laboratorium jest zapoznanie się oraz zaimplementowanie algorytmów głębokiego uczenia aktywnego. Zaimplementowane algorytmy będą testowane z wykorzystaniem wcześniej przygotowanych środowisk: *FrozenLake* i *Pacman* oraz środowiska z OpenAI - *CartPole*.\n"
   ]
  },
  {
   "cell_type": "markdown",
   "metadata": {},
   "source": [
    "Dołączenie standardowych bibliotek"
   ]
  },
  {
   "cell_type": "code",
   "execution_count": null,
   "metadata": {},
   "outputs": [],
   "source": [
    "from collections import deque\n",
    "import gym\n",
    "import numpy as np\n",
    "import random"
   ]
  },
  {
   "cell_type": "code",
   "execution_count": 2,
   "metadata": {},
   "outputs": [],
   "source": [
    "from tqdm import tqdm"
   ]
  },
  {
   "cell_type": "markdown",
   "metadata": {},
   "source": [
    "Dołączenie bibliotek ze środowiskami:"
   ]
  },
  {
   "cell_type": "code",
   "execution_count": 3,
   "metadata": {},
   "outputs": [],
   "source": [
    "from env.FrozenLakeMDP import frozenLake\n",
    "from env.FrozenLakeMDPExtended import frozenLakeExtended\n"
   ]
  },
  {
   "cell_type": "markdown",
   "metadata": {},
   "source": [
    "Dołączenie bibliotek do obsługi sieci neuronowych"
   ]
  },
  {
   "cell_type": "code",
   "execution_count": 4,
   "metadata": {},
   "outputs": [],
   "source": [
    "import torch as T\n",
    "import torch.nn as nn\n",
    "import torch.nn.functional as F\n",
    "import torch.optim as optim"
   ]
  },
  {
   "cell_type": "markdown",
   "metadata": {},
   "source": [
    "## Zadanie 1 - Deep Q-Network\n",
    "\n",
    "<p style='text-align: justify;'>\n",
    "Celem ćwiczenie jest zaimplementowanie algorytmu Deep Q-Network. Wartoscią oczekiwaną sieci jest:\n",
    "\n",
    "\\begin{equation}\n",
    "        Q(s_t, a_t) = r_{t+1} + \\gamma \\text{max}_a Q(s_{t + 1}, a)\n",
    "\\end{equation}\n",
    "\n",
    "</p>"
   ]
  },
  {
   "cell_type": "code",
   "execution_count": 6,
   "metadata": {},
   "outputs": [],
   "source": [
    "class ReplayBuffer(object):\n",
    "    def __init__(self, mem_size, state_shape):\n",
    "        self.mem_size = mem_size\n",
    "        self.mem_cntr = 0\n",
    "        self.state_memory = np.zeros((self.mem_size, state_shape), dtype=np.float32)\n",
    "        self.new_state_memory = np.zeros((self.mem_size, state_shape), dtype=np.float32)\n",
    "        self.action_memory = np.zeros(self.mem_size, dtype=np.int32)\n",
    "        self.reward_memory = np.zeros(self.mem_size, dtype=np.float32)\n",
    "        self.terminal_memory = np.zeros(self.mem_size, dtype=bool)\n",
    "\n",
    "    def store_transition(self, state, action, reward, _state, done):\n",
    "        index = self.mem_cntr % self.mem_size\n",
    "        self.state_memory[index] = state\n",
    "        self.new_state_memory[index] = _state\n",
    "        self.action_memory[index] = action\n",
    "        self.reward_memory[index] = reward\n",
    "        self.terminal_memory[index] = done\n",
    "        self.mem_cntr += 1\n",
    "\n",
    "    @staticmethod\n",
    "    def _softmax(x: np.ndarray) -> np.ndarray:\n",
    "        return np.exp(x) / np.exp(x).sum()\n",
    "\n",
    "    def sample_buffer(self, batch_size):\n",
    "        max_mem = min(self.mem_cntr, self.mem_size)\n",
    "\n",
    "        # probs = self._softmax(1 - self.reward_memory[:max_mem])\n",
    "        batch = np.random.choice(max_mem, batch_size)\n",
    "\n",
    "        states = self.state_memory[batch]\n",
    "        actions = self.action_memory[batch]\n",
    "        rewards = self.reward_memory[batch]\n",
    "        _states = self.new_state_memory[batch]\n",
    "        done = self.terminal_memory[batch]\n",
    "\n",
    "        return states, actions, rewards, _states, done"
   ]
  },
  {
   "cell_type": "code",
   "execution_count": null,
   "metadata": {},
   "outputs": [],
   "source": [
    "class DQNAgent: # Pytorch\n",
    "    def __init__(self, action_size, state_size, learning_rate, model):\n",
    "        self.action_size = action_size\n",
    "        self.memory = ReplayBuffer(2000, state_size)\n",
    "        self.gamma = 0.95    # discount rate\n",
    "        self.epsilon = 1.0  # exploration rate\n",
    "        self.epsilon_min = 0.01\n",
    "        self.epsilon_decay = 0.05\n",
    "        self.learning_rate = learning_rate\n",
    "        self.q = model\n",
    "        self.evaluate = False\n",
    "\n",
    "    def remember(self, state, action, reward, _state, done):\n",
    "        self.memory.store_transition(state, action, reward, _state, done)\n",
    " \n",
    "    def get_action(self, state):\n",
    "        if np.random.random() <= self.epsilon and not self.evaluate:\n",
    "            action = np.random.choice(self.action_size)\n",
    "        else:\n",
    "            state = T.tensor(state).to(self.q.device)\n",
    "            actions = self.q.forward(state)\n",
    "            action = T.argmax(actions).item()\n",
    "\n",
    "        return action\n",
    "\n",
    "    def get_best_action(self, state):\n",
    "        state = T.tensor(state).to(self.q.device)\n",
    "        actions = self.q.forward(state)\n",
    "        action = T.argmax(actions).item()\n",
    "\n",
    "        return action\n",
    "\n",
    "    def learn(self, batch_size):\n",
    "        if self.memory.mem_cntr < batch_size:\n",
    "            return\n",
    "\n",
    "        states, actions, rewards, _states, done = self.memory.sample_buffer(batch_size)\n",
    "\n",
    "        states = T.tensor(states).to(self.q.device)\n",
    "        _states = T.tensor(_states).to(self.q.device)\n",
    "\n",
    "        q_test = self.q(states)\n",
    "        with T.no_grad():\n",
    "            q_next = self.q.forward(_states).cpu().detach().numpy()\n",
    "            q_target = q_test.cpu().detach().numpy().copy()\n",
    "\n",
    "            max_actions = np.argmax(q_next, axis=1)\n",
    "\n",
    "            batch_index = np.arange(batch_size, dtype=np.int32)\n",
    "\n",
    "            q_target[batch_index, actions] = rewards + self.gamma * q_next[batch_index, max_actions] * (1-done)\n",
    "            q_target = T.tensor(q_target).to(self.q.device)\n",
    "\n",
    "        q_pred = self.q(states)\n",
    "        self.q.optimizer.zero_grad()\n",
    "        loss = self.q.loss(q_pred, q_target).to(self.q.device)\n",
    "        loss.backward()\n",
    "        self.q.optimizer.step()\n",
    "\n",
    "    def update_epsilon_value(self):\n",
    "        self.epsilon = self.epsilon - self.epsilon_decay if self.epsilon > self.epsilon_min else self.epsilon_min"
   ]
  },
  {
   "cell_type": "markdown",
   "metadata": {},
   "source": [
    "Czas przygotować model sieci, która będzie się uczyła poruszania po środowisku *FrozenLake*, warstwa wejściowa powinna mieć tyle neuronów ile jest możlliwych stanów, warstwa wyjściowa tyle neuronów ile jest możliwych akcji do wykonania:"
   ]
  },
  {
   "cell_type": "code",
   "execution_count": 8,
   "metadata": {},
   "outputs": [],
   "source": [
    "class DQN(nn.Module):\n",
    "    def __init__(self, lr, state_shape, n_actions, fc1, fc2):\n",
    "        super(DQN, self).__init__()\n",
    "\n",
    "        self.fc1 = nn.Linear(state_shape, fc1)\n",
    "        self.fc2 = nn.Linear(fc1, fc2)\n",
    "        self.output = nn.Linear(fc2, n_actions)\n",
    "        self.optimizer = optim.Adam(self.parameters(), lr=lr)\n",
    "        self.loss = nn.MSELoss()\n",
    "        self.device = T.device('cuda:0') if T.cuda.is_available() else T.device('cpu')\n",
    "        self.to(self.device)\n",
    "\n",
    "    def forward(self, state):\n",
    "        state = F.relu(self.fc1(state))\n",
    "        state = F.relu(self.fc2(state))\n",
    "        actions = self.output(state)\n",
    "\n",
    "        return actions"
   ]
  },
  {
   "cell_type": "code",
   "execution_count": 9,
   "metadata": {},
   "outputs": [],
   "source": [
    "env = frozenLake(\"8x8\")\n",
    "\n",
    "state_size = env.get_number_of_states()\n",
    "action_size = len(env.get_possible_actions(None))\n",
    "learning_rate = 0.001"
   ]
  },
  {
   "cell_type": "markdown",
   "metadata": {},
   "source": [
    " Czas nauczyć agenta poruszania się po środowisku *FrozenLake*, jako stan przyjmij wektor o liczbie elementów równej liczbie możliwych stanów, z wartością 1 ustawioną w komórce o indeksie równym aktualnemu stanowi, pozostałe elementy mają być wypełnione zerami:\n",
    "* 1 pkt < 35 epok,\n",
    "* 0.5 pkt < 60 epok,\n",
    "* 0.25 pkt - w pozostałych przypadkach."
   ]
  },
  {
   "cell_type": "code",
   "execution_count": 10,
   "metadata": {},
   "outputs": [
    {
     "name": "stdout",
     "output_type": "stream",
     "text": [
      "epoch #0\tmean reward = 0.010\tepsilon = 1.000\n",
      "epoch #1\tmean reward = 0.000\tepsilon = 0.950\n",
      "epoch #2\tmean reward = 0.010\tepsilon = 0.900\n",
      "epoch #3\tmean reward = 0.020\tepsilon = 0.850\n",
      "epoch #4\tmean reward = 0.020\tepsilon = 0.800\n",
      "epoch #5\tmean reward = 0.060\tepsilon = 0.750\n",
      "epoch #6\tmean reward = 0.080\tepsilon = 0.700\n",
      "epoch #7\tmean reward = 0.120\tepsilon = 0.650\n",
      "epoch #8\tmean reward = 0.200\tepsilon = 0.600\n",
      "epoch #9\tmean reward = 0.260\tepsilon = 0.550\n",
      "epoch #10\tmean reward = 0.390\tepsilon = 0.500\n",
      "epoch #11\tmean reward = 0.420\tepsilon = 0.450\n",
      "epoch #12\tmean reward = 0.380\tepsilon = 0.400\n",
      "epoch #13\tmean reward = 0.570\tepsilon = 0.350\n",
      "epoch #14\tmean reward = 0.520\tepsilon = 0.300\n",
      "epoch #15\tmean reward = 0.730\tepsilon = 0.250\n",
      "epoch #16\tmean reward = 0.670\tepsilon = 0.200\n",
      "epoch #17\tmean reward = 0.780\tepsilon = 0.150\n",
      "epoch #18\tmean reward = 0.910\tepsilon = 0.100\n",
      "You Win!\n"
     ]
    }
   ],
   "source": [
    "model = DQN(learning_rate, state_size, action_size, 128, 128)\n",
    "\n",
    "agent = DQNAgent(action_size, state_size, learning_rate, model)\n",
    "agent.epsilon = 1\n",
    "\n",
    "done = False\n",
    "batch_size = 64\n",
    "EPISODES = 60\n",
    "counter = 0\n",
    "for e in range(EPISODES):\n",
    "    summary = []\n",
    "    for _ in tqdm(range(100), desc=f'Epoch: {e}', disable=True):\n",
    "        total_reward = 0\n",
    "        i_state = env.reset()\n",
    "    \n",
    "        state = np.zeros(state_size, dtype=np.float32)\n",
    "        state[i_state] = 1\n",
    "\n",
    "        for time in range(1000):\n",
    "            action = agent.get_action(state)\n",
    "            _i_state, reward, done, _ = env.step(action)\n",
    "            total_reward += reward\n",
    "\n",
    "            _state = np.zeros(state_size, dtype=np.float32)\n",
    "            _state[_i_state] = 1\n",
    "\n",
    "            if np.allclose(state, _state):\n",
    "                reward = -1\n",
    "\n",
    "            if done and not reward:\n",
    "                reward = -1\n",
    "\n",
    "            agent.remember(state, action, reward, _state, done)\n",
    "            agent.learn(batch_size)\n",
    "            \n",
    "            state = _state\n",
    "            if done:\n",
    "                break\n",
    "\n",
    "        summary.append(total_reward)\n",
    "    print(\"epoch #{}\\tmean reward = {:.3f}\\tepsilon = {:.3f}\".format(e, np.mean(summary), agent.epsilon))\n",
    "    agent.update_epsilon_value()\n",
    "\n",
    "    if np.mean(summary) > 0.9:\n",
    "        print (\"You Win!\")\n",
    "        break"
   ]
  },
  {
   "cell_type": "markdown",
   "metadata": {},
   "source": [
    "Czas przygotować model sieci, która będzie się uczyła poruszania po środowisku *FrozenLakeExtended*, tym razem stan nie jest określany poprzez pojedynczą liczbę, a przez 3 tablice:\n",
    "* pierwsza zawierająca informacje o celu,\n",
    "* druga zawierająca informacje o dziurach,\n",
    "* trzecia zawierająca informację o położeniu gracza."
   ]
  },
  {
   "cell_type": "code",
   "execution_count": 12,
   "metadata": {},
   "outputs": [],
   "source": [
    "env = frozenLakeExtended(\"4x4\")\n",
    "\n",
    "state_size = env.get_number_of_states()\n",
    "action_size = len(env.get_possible_actions(None))\n",
    "learning_rate = 0.001"
   ]
  },
  {
   "cell_type": "markdown",
   "metadata": {},
   "source": [
    " Czas nauczyć agenta poruszania się po środowisku *FrozenLakeExtended*, jako stan przyjmij wektor składający się ze wszystkich trzech tablic (2 pkt.):"
   ]
  },
  {
   "cell_type": "code",
   "execution_count": 15,
   "metadata": {},
   "outputs": [
    {
     "name": "stdout",
     "output_type": "stream",
     "text": [
      "epoch #0\tmean reward = 0.000\tepsilon = 0.750\n",
      "epoch #1\tmean reward = 0.010\tepsilon = 0.700\n",
      "epoch #2\tmean reward = 0.140\tepsilon = 0.650\n",
      "epoch #3\tmean reward = 0.180\tepsilon = 0.600\n",
      "epoch #4\tmean reward = 0.210\tepsilon = 0.550\n",
      "epoch #5\tmean reward = 0.300\tepsilon = 0.500\n",
      "epoch #6\tmean reward = 0.410\tepsilon = 0.450\n",
      "epoch #7\tmean reward = 0.470\tepsilon = 0.400\n",
      "epoch #8\tmean reward = 0.580\tepsilon = 0.350\n",
      "epoch #9\tmean reward = 0.590\tepsilon = 0.300\n",
      "epoch #10\tmean reward = 0.670\tepsilon = 0.250\n",
      "epoch #11\tmean reward = 0.770\tepsilon = 0.200\n",
      "epoch #12\tmean reward = 0.780\tepsilon = 0.150\n",
      "epoch #13\tmean reward = 0.920\tepsilon = 0.100\n",
      "You Win!\n"
     ]
    }
   ],
   "source": [
    "model = DQN(learning_rate, 48, action_size, 128, 64)\n",
    "\n",
    "agent = DQNAgent(action_size, 48, learning_rate, model)\n",
    "\n",
    "agent.epsilon = 0.75\n",
    "\n",
    "done = False\n",
    "batch_size = 64\n",
    "EPISODES = 2000\n",
    "counter = 0\n",
    "for e in range(EPISODES):\n",
    "    summary = []\n",
    "    for _ in range(100):\n",
    "        total_reward = 0\n",
    "        state = env.reset()\n",
    "        state = np.array(state).reshape(-1,).astype(np.float32)\n",
    "\n",
    "        \n",
    "        for time in range(1000):\n",
    "            action = agent.get_action(state)\n",
    "            _state, reward, done, _ = env.step(action)\n",
    "            _state = np.array(_state).reshape(-1,).astype(np.float32)\n",
    "            total_reward += reward\n",
    "\n",
    "            if np.allclose(state, _state):\n",
    "                reward = -1\n",
    "\n",
    "            if done and not reward:\n",
    "                reward = -1\n",
    "\n",
    "            agent.remember(state, action, reward, _state, done)\n",
    "            agent.learn(batch_size)\n",
    "            state = _state\n",
    "            if done:\n",
    "                break\n",
    "\n",
    "\n",
    "        summary.append(total_reward)\n",
    "\n",
    "    print(\"epoch #{}\\tmean reward = {:.3f}\\tepsilon = {:.3f}\".format(e, np.mean(summary), agent.epsilon))\n",
    "    agent.update_epsilon_value()\n",
    "    if np.mean(summary) > 0.9:\n",
    "        print (\"You Win!\")\n",
    "        break"
   ]
  },
  {
   "cell_type": "markdown",
   "metadata": {},
   "source": [
    "Czas przygotować model sieci, która będzie się uczyła działania w środowisku [*CartPool*](https://gym.openai.com/envs/CartPole-v0/):"
   ]
  },
  {
   "cell_type": "code",
   "execution_count": 98,
   "metadata": {},
   "outputs": [],
   "source": [
    "np.bool8 = np.bool_\n",
    "env = gym.make(\"CartPole-v1\")\n",
    "state_size = env.observation_space.shape[0]\n",
    "action_size = env.action_space.n\n",
    "learning_rate = 0.005"
   ]
  },
  {
   "cell_type": "markdown",
   "metadata": {},
   "source": [
    "Czas nauczyć agenta gry w środowisku *CartPool*:\n",
    "* 1 pkt < 10 epok,\n",
    "* 0.5 pkt < 20 epok,\n",
    "* 0.25 pkt - w pozostałych przypadkach."
   ]
  },
  {
   "cell_type": "code",
   "execution_count": 99,
   "metadata": {},
   "outputs": [
    {
     "name": "stdout",
     "output_type": "stream",
     "text": [
      "epoch #0\tmean reward = 19.990\tepsilon = 0.800\n",
      "epoch #1\tmean reward = 23.540\tepsilon = 0.700\n",
      "epoch #2\tmean reward = 54.730\tepsilon = 0.600\n",
      "epoch #3\tmean reward = 78.280\tepsilon = 0.500\n",
      "epoch #4\tmean reward = 113.330\tepsilon = 0.400\n",
      "epoch #5\tmean reward = 146.310\tepsilon = 0.300\n",
      "epoch #6\tmean reward = 182.000\tepsilon = 0.200\n",
      "epoch #7\tmean reward = 155.860\tepsilon = 0.100\n",
      "epoch #8\tmean reward = 122.970\tepsilon = -0.000\n",
      "epoch #9\tmean reward = 147.220\tepsilon = 0.010\n",
      "epoch #10\tmean reward = 228.730\tepsilon = 0.010\n",
      "You Win!\n"
     ]
    }
   ],
   "source": [
    "model = DQN(learning_rate, state_size, action_size, state_size, state_size)\n",
    "agent = DQNAgent(action_size, state_size, learning_rate, model)\n",
    "agent.epsilon_min = 0.01\n",
    "agent.epsilon = 0.8\n",
    "\n",
    "done = False\n",
    "batch_size = 64\n",
    "EPISODES = 1000\n",
    "counter = 0\n",
    "for e in range(EPISODES):\n",
    "    summary = []\n",
    "    for i in range(100):\n",
    "        total_reward = 0\n",
    "        state = env.reset()\n",
    "        state = state[0].astype(np.float32)\n",
    "\n",
    "        for time in range(300):\n",
    "            action = agent.get_action(state)\n",
    "            # print(f'{action=}')\n",
    "            # _step = env.step(action)\n",
    "            # __step = env.step(action)[0]\n",
    "            # print(f'{_step=}')\n",
    "            # print(f'{__step=}')\n",
    "            # print(env.step(action))\n",
    "            _state, reward, done, _, _= env.step(action)\n",
    "            \n",
    "            _state = _state.astype(np.float32)\n",
    "\n",
    "            total_reward += reward\n",
    "\n",
    "            # if done:\n",
    "            #     reward = -100\n",
    "\n",
    "            agent.remember(state, action, reward, _state, done)\n",
    "            agent.learn(batch_size)\n",
    "            state = _state\n",
    "            if done:\n",
    "                break\n",
    "\n",
    "        summary.append(total_reward)\n",
    "    # print(f'{summary=}')\n",
    "    print(\"epoch #{}\\tmean reward = {:.3f}\\tepsilon = {:.3f}\".format(e, np.mean(summary), agent.epsilon))\n",
    "    agent.update_epsilon_value()\n",
    "    agent.update_epsilon_value()\n",
    "    if np.mean(summary) > 195:\n",
    "        print (\"You Win!\")\n",
    "        break"
   ]
  }
 ],
 "metadata": {
  "kernelspec": {
   "display_name": ".venv",
   "language": "python",
   "name": "python3"
  },
  "language_info": {
   "codemirror_mode": {
    "name": "ipython",
    "version": 3
   },
   "file_extension": ".py",
   "mimetype": "text/x-python",
   "name": "python",
   "nbconvert_exporter": "python",
   "pygments_lexer": "ipython3",
   "version": "3.11.9"
  }
 },
 "nbformat": 4,
 "nbformat_minor": 4
}
