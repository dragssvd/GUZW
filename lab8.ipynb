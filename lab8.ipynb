{
  "cells": [
    {
      "cell_type": "markdown",
      "metadata": {
        "id": "O9wlx8wSpIi9"
      },
      "source": [
        "# Deep Q-Network implementation\n",
        "\n",
        "This notebook shamelessly demands you to implement a DQN - an approximate q-learning algorithm with experience replay and target networks - and see if it works any better this way.\n",
        "\n",
        "Based on Yandex School of Data Analysis Practical RL course."
      ]
    },
    {
      "cell_type": "code",
      "execution_count": 1,
      "metadata": {},
      "outputs": [
        {
          "name": "stdout",
          "output_type": "stream",
          "text": [
            "Requirement already satisfied: pandas in c:\\users\\baban\\desktop\\guzw\\.venv\\lib\\site-packages (2.3.0)\n",
            "Requirement already satisfied: numpy>=1.23.2 in c:\\users\\baban\\desktop\\guzw\\.venv\\lib\\site-packages (from pandas) (2.2.5)\n",
            "Requirement already satisfied: python-dateutil>=2.8.2 in c:\\users\\baban\\desktop\\guzw\\.venv\\lib\\site-packages (from pandas) (2.9.0.post0)\n",
            "Requirement already satisfied: pytz>=2020.1 in c:\\users\\baban\\desktop\\guzw\\.venv\\lib\\site-packages (from pandas) (2025.2)\n",
            "Requirement already satisfied: tzdata>=2022.7 in c:\\users\\baban\\desktop\\guzw\\.venv\\lib\\site-packages (from pandas) (2025.2)\n",
            "Requirement already satisfied: six>=1.5 in c:\\users\\baban\\desktop\\guzw\\.venv\\lib\\site-packages (from python-dateutil>=2.8.2->pandas) (1.17.0)\n",
            "Note: you may need to restart the kernel to use updated packages.\n"
          ]
        }
      ],
      "source": [
        "%pip install pandas"
      ]
    },
    {
      "cell_type": "code",
      "execution_count": 2,
      "metadata": {
        "id": "o4YtmuXTrnTs"
      },
      "outputs": [
        {
          "name": "stdout",
          "output_type": "stream",
          "text": [
            "Requirement already satisfied: gymnasium==0.29.1 in c:\\users\\baban\\desktop\\guzw\\.venv\\lib\\site-packages (0.29.1)\n",
            "Requirement already satisfied: numpy>=1.21.0 in c:\\users\\baban\\desktop\\guzw\\.venv\\lib\\site-packages (from gymnasium==0.29.1) (2.2.5)\n",
            "Requirement already satisfied: cloudpickle>=1.2.0 in c:\\users\\baban\\desktop\\guzw\\.venv\\lib\\site-packages (from gymnasium==0.29.1) (3.1.1)\n",
            "Requirement already satisfied: typing-extensions>=4.3.0 in c:\\users\\baban\\desktop\\guzw\\.venv\\lib\\site-packages (from gymnasium==0.29.1) (4.13.2)\n",
            "Requirement already satisfied: farama-notifications>=0.0.1 in c:\\users\\baban\\desktop\\guzw\\.venv\\lib\\site-packages (from gymnasium==0.29.1) (0.0.4)\n",
            "Note: you may need to restart the kernel to use updated packages.\n",
            "Requirement already satisfied: gymnasium==0.29.1 in c:\\users\\baban\\desktop\\guzw\\.venv\\lib\\site-packages (from gymnasium[atari]==0.29.1) (0.29.1)\n",
            "Requirement already satisfied: numpy>=1.21.0 in c:\\users\\baban\\desktop\\guzw\\.venv\\lib\\site-packages (from gymnasium==0.29.1->gymnasium[atari]==0.29.1) (2.2.5)\n",
            "Requirement already satisfied: cloudpickle>=1.2.0 in c:\\users\\baban\\desktop\\guzw\\.venv\\lib\\site-packages (from gymnasium==0.29.1->gymnasium[atari]==0.29.1) (3.1.1)\n",
            "Requirement already satisfied: typing-extensions>=4.3.0 in c:\\users\\baban\\desktop\\guzw\\.venv\\lib\\site-packages (from gymnasium==0.29.1->gymnasium[atari]==0.29.1) (4.13.2)\n",
            "Requirement already satisfied: farama-notifications>=0.0.1 in c:\\users\\baban\\desktop\\guzw\\.venv\\lib\\site-packages (from gymnasium==0.29.1->gymnasium[atari]==0.29.1) (0.0.4)\n",
            "Requirement already satisfied: shimmy<1.0,>=0.1.0 in c:\\users\\baban\\desktop\\guzw\\.venv\\lib\\site-packages (from shimmy[atari]<1.0,>=0.1.0; extra == \"atari\"->gymnasium[atari]==0.29.1) (0.2.1)\n",
            "Requirement already satisfied: ale-py~=0.8.1 in c:\\users\\baban\\desktop\\guzw\\.venv\\lib\\site-packages (from shimmy[atari]<1.0,>=0.1.0; extra == \"atari\"->gymnasium[atari]==0.29.1) (0.8.1)\n",
            "Requirement already satisfied: importlib-resources in c:\\users\\baban\\desktop\\guzw\\.venv\\lib\\site-packages (from ale-py~=0.8.1->shimmy[atari]<1.0,>=0.1.0; extra == \"atari\"->gymnasium[atari]==0.29.1) (6.5.2)\n",
            "Note: you may need to restart the kernel to use updated packages.\n",
            "Requirement already satisfied: atari-py in c:\\users\\baban\\desktop\\guzw\\.venv\\lib\\site-packages (0.2.9)\n",
            "Requirement already satisfied: numpy in c:\\users\\baban\\desktop\\guzw\\.venv\\lib\\site-packages (from atari-py) (2.2.5)\n",
            "Requirement already satisfied: six in c:\\users\\baban\\desktop\\guzw\\.venv\\lib\\site-packages (from atari-py) (1.17.0)\n",
            "Note: you may need to restart the kernel to use updated packages.\n",
            "Requirement already satisfied: autorom in c:\\users\\baban\\desktop\\guzw\\.venv\\lib\\site-packages (0.6.1)\n",
            "Requirement already satisfied: click in c:\\users\\baban\\desktop\\guzw\\.venv\\lib\\site-packages (from autorom) (8.2.1)\n",
            "Requirement already satisfied: requests in c:\\users\\baban\\desktop\\guzw\\.venv\\lib\\site-packages (from autorom) (2.32.4)\n",
            "Requirement already satisfied: colorama in c:\\users\\baban\\desktop\\guzw\\.venv\\lib\\site-packages (from click->autorom) (0.4.6)\n",
            "Requirement already satisfied: charset_normalizer<4,>=2 in c:\\users\\baban\\desktop\\guzw\\.venv\\lib\\site-packages (from requests->autorom) (3.4.2)\n",
            "Requirement already satisfied: idna<4,>=2.5 in c:\\users\\baban\\desktop\\guzw\\.venv\\lib\\site-packages (from requests->autorom) (3.10)\n",
            "Requirement already satisfied: urllib3<3,>=1.21.1 in c:\\users\\baban\\desktop\\guzw\\.venv\\lib\\site-packages (from requests->autorom) (2.4.0)\n",
            "Requirement already satisfied: certifi>=2017.4.17 in c:\\users\\baban\\desktop\\guzw\\.venv\\lib\\site-packages (from requests->autorom) (2025.4.26)\n",
            "Note: you may need to restart the kernel to use updated packages.\n",
            "Requirement already satisfied: autorom[accept-rom-license] in c:\\users\\baban\\desktop\\guzw\\.venv\\lib\\site-packages (0.6.1)\n",
            "Requirement already satisfied: click in c:\\users\\baban\\desktop\\guzw\\.venv\\lib\\site-packages (from autorom[accept-rom-license]) (8.2.1)\n",
            "Requirement already satisfied: requests in c:\\users\\baban\\desktop\\guzw\\.venv\\lib\\site-packages (from autorom[accept-rom-license]) (2.32.4)\n",
            "Requirement already satisfied: AutoROM.accept-rom-license in c:\\users\\baban\\desktop\\guzw\\.venv\\lib\\site-packages (from autorom[accept-rom-license]) (0.6.1)\n",
            "Requirement already satisfied: colorama in c:\\users\\baban\\desktop\\guzw\\.venv\\lib\\site-packages (from click->autorom[accept-rom-license]) (0.4.6)\n",
            "Requirement already satisfied: charset_normalizer<4,>=2 in c:\\users\\baban\\desktop\\guzw\\.venv\\lib\\site-packages (from requests->autorom[accept-rom-license]) (3.4.2)\n",
            "Requirement already satisfied: idna<4,>=2.5 in c:\\users\\baban\\desktop\\guzw\\.venv\\lib\\site-packages (from requests->autorom[accept-rom-license]) (3.10)\n",
            "Requirement already satisfied: urllib3<3,>=1.21.1 in c:\\users\\baban\\desktop\\guzw\\.venv\\lib\\site-packages (from requests->autorom[accept-rom-license]) (2.4.0)\n",
            "Requirement already satisfied: certifi>=2017.4.17 in c:\\users\\baban\\desktop\\guzw\\.venv\\lib\\site-packages (from requests->autorom[accept-rom-license]) (2025.4.26)\n",
            "Note: you may need to restart the kernel to use updated packages.\n"
          ]
        }
      ],
      "source": [
        "%pip install gymnasium==0.29.1\n",
        "%pip install gymnasium[atari]==0.29.1\n",
        "%pip install atari-py\n",
        "%pip install autorom\n",
        "%pip install autorom[accept-rom-license]\n"
      ]
    },
    {
      "cell_type": "code",
      "execution_count": 3,
      "metadata": {
        "collapsed": true,
        "id": "i8q_pgOXpIi_"
      },
      "outputs": [
        {
          "name": "stdout",
          "output_type": "stream",
          "text": [
            "env: DISPLAY=:1\n"
          ]
        },
        {
          "name": "stderr",
          "output_type": "stream",
          "text": [
            "/bin/bash: ../xvfb: No such file or directory\n"
          ]
        }
      ],
      "source": [
        "#XVFB will be launched if you run on a server\n",
        "import os\n",
        "if type(os.environ.get(\"DISPLAY\")) is not str or len(os.environ.get(\"DISPLAY\"))==0:\n",
        "    !bash ../xvfb start\n",
        "    %env DISPLAY=:1"
      ]
    },
    {
      "cell_type": "code",
      "execution_count": 4,
      "metadata": {
        "collapsed": true,
        "id": "HFCWxsAkpIjA"
      },
      "outputs": [],
      "source": [
        "import gymnasium as gym\n",
        "import numpy as np\n",
        "import pandas as pd\n",
        "import matplotlib.pyplot as plt\n",
        "%matplotlib inline"
      ]
    },
    {
      "cell_type": "code",
      "execution_count": 5,
      "metadata": {},
      "outputs": [],
      "source": [
        "import torch as T\n",
        "import torch.nn as nn\n",
        "import torch.nn.functional as F\n",
        "import torch.optim as optim"
      ]
    },
    {
      "cell_type": "markdown",
      "metadata": {
        "id": "i9eKYAoIpIjA"
      },
      "source": [
        "### Let's play some old videogames\n",
        "![img](https://github.com/yandexdataschool/Practical_RL/raw/master/yet_another_week/_resource/nerd.png)\n",
        "\n",
        "This time we're gonna apply approximate q-learning to an atari game called Breakout. It's not the hardest thing out there, but it's definitely way more complex than anything we tried before.\n"
      ]
    },
    {
      "cell_type": "markdown",
      "metadata": {
        "id": "RJhThPOKpIjA"
      },
      "source": [
        "### Processing game image \n",
        "\n",
        "Raw atari images are large, 210x160x3 by default. However, we don't need that level of detail in order to learn them.\n",
        "\n",
        "We can thus save a lot of time by preprocessing game image, including\n",
        "* Resizing to a smaller shape, 64 x 64\n",
        "* Converting to grayscale\n",
        "* Cropping irrelevant image parts (top & bottom)"
      ]
    },
    {
      "cell_type": "code",
      "execution_count": 6,
      "metadata": {},
      "outputs": [
        {
          "name": "stdout",
          "output_type": "stream",
          "text": [
            "Requirement already satisfied: opencv-python in c:\\users\\baban\\desktop\\guzw\\.venv\\lib\\site-packages (4.11.0.86)\n",
            "Requirement already satisfied: numpy>=1.21.2 in c:\\users\\baban\\desktop\\guzw\\.venv\\lib\\site-packages (from opencv-python) (2.2.5)\n",
            "Note: you may need to restart the kernel to use updated packages.\n"
          ]
        }
      ],
      "source": [
        "%pip install opencv-python"
      ]
    },
    {
      "cell_type": "code",
      "execution_count": 18,
      "metadata": {
        "id": "sdpPAb2ByhFf"
      },
      "outputs": [],
      "source": [
        "import cv2\n",
        "from gymnasium.core import ObservationWrapper\n",
        "from gymnasium.spaces import Box\n",
        "\n",
        "class PreprocessAtari(ObservationWrapper):\n",
        "    def __init__(self, env):\n",
        "        \"\"\"A gym wrapper that crops, scales image into the desired shapes and optionally grayscales it.\"\"\"\n",
        "        ObservationWrapper.__init__(self, env)\n",
        "\n",
        "        self.img_size = (64, 64)\n",
        "        self.observation_space = Box(0.0, 1.0, (1, self.img_size[0], self.img_size[1]))\n",
        "\n",
        "    def observation(self, img):\n",
        "        \"\"\"what happens to each observation\"\"\"\n",
        "\n",
        "        # Here's what you need to do:\n",
        "        #  * Crop image, remove irrelevant parts.\n",
        "        #  * Resize image to self.img_size. Use cv2.resize or any other library you want,\n",
        "        #    e.g. PIL or Keras. Do not use skimage.transform.resize because it is roughly\n",
        "        #    6x slower than cv2.resize.\n",
        "        #  * Cast image to grayscale.\n",
        "        #  * Convert image pixels to (0, 1) range, float32 type.\n",
        "        \n",
        "        img = cv2.cvtColor(img, cv2.COLOR_BGR2GRAY)\n",
        "        img = img / 255\n",
        "        img = cv2.resize(img, self.img_size)\n",
        "        img = np.expand_dims(img, axis=0)\n",
        "\n",
        "        return img.astype(np.float32)\n",
        "    \n",
        "    \n"
      ]
    },
    {
      "cell_type": "code",
      "execution_count": null,
      "metadata": {
        "id": "hZavC0-qrmNW"
      },
      "outputs": [],
      "source": []
    },
    {
      "cell_type": "markdown",
      "metadata": {
        "id": "UgvevvBIpIjB"
      },
      "source": [
        "### Frame buffer\n",
        "\n",
        "Our agent can only process one observation at a time, so we gotta make sure it contains enough information to fing optimal actions. For instance, agent has to react to moving objects so he must be able to measure object's velocity.\n",
        "\n",
        "To do so, we introduce a buffer that stores 4 last images. This time everything is pre-implemented for you."
      ]
    },
    {
      "cell_type": "code",
      "execution_count": 19,
      "metadata": {
        "id": "za3pVaaWqnwX"
      },
      "outputs": [],
      "source": [
        "from gymnasium.spaces.box import Box\n",
        "from gymnasium.core import Wrapper\n",
        "\n",
        "class FrameBuffer(Wrapper):\n",
        "    def __init__(self, env, n_frames=4, dim_order='tensorflow'):\n",
        "        \"\"\"A gym wrapper that reshapes, crops and scales image into the desired shapes\"\"\"\n",
        "        super(FrameBuffer, self).__init__(env)\n",
        "        self.dim_order = dim_order\n",
        "        if dim_order == 'tensorflow':\n",
        "            height, width, n_channels = env.observation_space.shape\n",
        "            obs_shape = [height, width, n_channels * n_frames]\n",
        "        elif dim_order == 'pytorch':\n",
        "            n_channels, height, width = env.observation_space.shape\n",
        "            obs_shape = [n_channels * n_frames, height, width]\n",
        "        else:\n",
        "            raise ValueError('dim_order should be \"tensorflow\" or \"pytorch\", got {}'.format(dim_order))\n",
        "        self.observation_space = Box(0.0, 1.0, obs_shape)\n",
        "        self.framebuffer = np.zeros(obs_shape, 'float32')\n",
        "        \n",
        "    def reset(self):\n",
        "        \"\"\"resets breakout, returns initial frames\"\"\"\n",
        "        self.framebuffer = np.zeros_like(self.framebuffer)\n",
        "        self.update_buffer(self.env.reset()[0])\n",
        "        return self.framebuffer\n",
        "    \n",
        "    def step(self, action):\n",
        "        \"\"\"plays breakout for 1 step, returns frame buffer\"\"\"\n",
        "        new_img, reward, done, info, _ = self.env.step(action)\n",
        "        self.update_buffer(new_img)\n",
        "        return self.framebuffer, reward, done, info\n",
        "    \n",
        "    def update_buffer(self, img):\n",
        "        if self.dim_order == 'tensorflow':\n",
        "            offset = self.env.observation_space.shape[-1]\n",
        "            axis = -1\n",
        "            cropped_framebuffer = self.framebuffer[:,:,:-offset]\n",
        "        elif self.dim_order == 'pytorch':\n",
        "            offset = self.env.observation_space.shape[0]\n",
        "            axis = 0\n",
        "            cropped_framebuffer = self.framebuffer[:-offset]\n",
        "        self.framebuffer = np.concatenate([img, cropped_framebuffer], axis = axis)"
      ]
    },
    {
      "cell_type": "code",
      "execution_count": 22,
      "metadata": {
        "collapsed": true,
        "id": "wWEBJq27pIjC",
        "scrolled": false
      },
      "outputs": [],
      "source": [
        "def make_env():\n",
        "    env = gym.make(\"BreakoutDeterministic-v4\")\n",
        "    env = PreprocessAtari(env)\n",
        "    env = FrameBuffer(env, n_frames=4, dim_order='pytorch')\n",
        "    return env\n",
        "\n",
        "env = make_env()\n",
        "state = env.reset()"
      ]
    },
    {
      "cell_type": "code",
      "execution_count": 23,
      "metadata": {},
      "outputs": [],
      "source": [
        "class ReplayBuffer(object):\n",
        "    def __init__(self, mem_size, state_shape):\n",
        "        self.mem_size = mem_size\n",
        "        self.mem_cntr = 0\n",
        "        self.state_memory = np.zeros((self.mem_size, *state_shape), dtype=np.float32)\n",
        "        self.new_state_memory = np.zeros((self.mem_size, *state_shape), dtype=np.float32)\n",
        "        self.action_memory = np.zeros(self.mem_size, dtype=np.int32)\n",
        "        self.reward_memory = np.zeros(self.mem_size, dtype=np.float32)\n",
        "        self.terminal_memory = np.zeros(self.mem_size, dtype=bool)\n",
        "\n",
        "    def store_transition(self, state, action, reward, _state, done):\n",
        "        index = self.mem_cntr % self.mem_size\n",
        "        self.state_memory[index] = state\n",
        "        self.new_state_memory[index] = _state\n",
        "        self.action_memory[index] = action\n",
        "        self.reward_memory[index] = reward\n",
        "        self.terminal_memory[index] = done\n",
        "        self.mem_cntr += 1\n",
        "\n",
        "    @staticmethod\n",
        "    def _softmax(x: np.ndarray) -> np.ndarray:\n",
        "        return np.exp(x) / np.exp(x).sum()\n",
        "\n",
        "    def sample_buffer(self, batch_size):\n",
        "        max_mem = min(self.mem_cntr, self.mem_size)\n",
        "\n",
        "        batch = np.random.choice(max_mem, batch_size)\n",
        "\n",
        "        states = self.state_memory[batch]\n",
        "        actions = self.action_memory[batch]\n",
        "        rewards = self.reward_memory[batch]\n",
        "        _states = self.new_state_memory[batch]\n",
        "        done = self.terminal_memory[batch]\n",
        "\n",
        "        return states, actions, rewards, _states, done"
      ]
    },
    {
      "cell_type": "code",
      "execution_count": 27,
      "metadata": {
        "collapsed": true,
        "id": "LpGgZ-5BpIjC"
      },
      "outputs": [
        {
          "data": {
            "text/plain": [
              "<matplotlib.image.AxesImage at 0x13d0ba63a10>"
            ]
          },
          "execution_count": 27,
          "metadata": {},
          "output_type": "execute_result"
        },
        {
          "data": {
            "image/png": "[encoded data removed]",
            "text/plain": [
              "<Figure size 640x480 with 1 Axes>"
            ]
          },
          "metadata": {},
          "output_type": "display_data"
        }
      ],
      "source": [
        "for _ in range(50):\n",
        "    obs, _, _, _ = env.step(env.action_space.sample())\n",
        "\n",
        "\n",
        "plt.title(\"Game image\")\n",
        "# plt.imshow(env.render(\"rgb_array\"))\n",
        "# plt.show()\n",
        "plt.title(\"Agent observation (4 frames left to right)\")\n",
        "plt.imshow(np.c_[obs[0], obs[1], obs[2], obs[3]])"
      ]
    },
    {
      "cell_type": "markdown",
      "metadata": {
        "id": "hDYxJ0PLpIjC"
      },
      "source": [
        "### Building a network\n",
        "\n",
        "We now need to build a neural network that can map images to state q-values. This network will be called on every agent's step so it better not be resnet-152 unless you have an array of GPUs. Instead, you can use strided convolutions with a small number of features to save time and memory.\n",
        "\n",
        "You can build any architecture you want, but for reference, here's something that will more or less work:"
      ]
    },
    {
      "cell_type": "markdown",
      "metadata": {
        "id": "32PlDCSbpIjC"
      },
      "source": [
        "![img](https://github.com/yandexdataschool/Practical_RL/raw/master/yet_another_week/_resource/dqn_arch.png)"
      ]
    },
    {
      "cell_type": "code",
      "execution_count": 24,
      "metadata": {},
      "outputs": [],
      "source": [
        "class DQN(nn.Module):\n",
        "    def __init__(self, lr, state_shape, n_actions):\n",
        "        super(DQN, self).__init__()\n",
        "\n",
        "        self.conv1 = nn.Conv2d(state_shape[0], 16, 3, stride=2)\n",
        "        self.conv2 = nn.Conv2d(16, 32, 3, stride=2)\n",
        "        self.conv3 = nn.Conv2d(32, 64, 3, stride=2)\n",
        "        # self.conv4 = nn.Conv2d(128, 256, 1, stride=2)\n",
        "\n",
        "        self.flatten = nn.Flatten()\n",
        "\n",
        "        self.fc1 = nn.Linear(3136, 256)\n",
        "        self.fc2 = nn.Linear(256, 512)\n",
        "        self.output = nn.Linear(512, n_actions)\n",
        "        self.optimizer = optim.Adam(self.parameters(), lr=lr)\n",
        "        self.loss = nn.MSELoss()\n",
        "        self.device = T.device('cuda:0') if T.cuda.is_available() else T.device('cpu')\n",
        "        self.to(self.device)\n",
        "\n",
        "    def forward(self, state):\n",
        "        state = F.relu(self.conv1(state))\n",
        "        state = F.relu(self.conv2(state))\n",
        "        state = F.relu(self.conv3(state))\n",
        "        # state = F.relu(self.conv4(state))\n",
        "        state = self.flatten(state)\n",
        "        # print(f'after conv: {state.shape}')\n",
        "\n",
        "        state = F.relu(self.fc1(state))\n",
        "        state = F.relu(self.fc2(state))\n",
        "        actions = self.output(state)\n",
        "\n",
        "        return actions"
      ]
    },
    {
      "cell_type": "code",
      "execution_count": 30,
      "metadata": {},
      "outputs": [],
      "source": [
        "class DDQNAgent:\n",
        "    def __init__(self, state_size, action_size, learning_rate, update_rate=500):\n",
        "        self.state_size = state_size\n",
        "        self.action_size = action_size\n",
        "        self.memory = ReplayBuffer(50_000, state_size)\n",
        "        self.gamma = 0.95    # discount rate\n",
        "        self.epsilon = 1  # exploration rate\n",
        "        self.epsilon_min = 0.01\n",
        "        self.epsilon_decay = 0.005\n",
        "        self.network_sync_rate = update_rate\n",
        "        self.update_cntr = 0\n",
        "        self.q = DQN(learning_rate, state_size, action_size)\n",
        "        self.q_target = DQN(learning_rate, state_size, action_size)\n",
        "        self.update_weights()\n",
        "        self.evaluate=False\n",
        "\n",
        "    def store_transition(self, state, action, reward, _state, done):\n",
        "        self.memory.store_transition(state, action, reward, _state, done)\n",
        "\n",
        "    def choose_action(self, state):\n",
        "        if np.random.random() <= self.epsilon and not self.evaluate:\n",
        "            action = np.random.choice(self.action_size)\n",
        "        else:\n",
        "            state = T.tensor(state).to(self.q.device)\n",
        "            actions = self.q.forward(state)\n",
        "            action = T.argmax(actions).item()\n",
        "\n",
        "        return action\n",
        "\n",
        "    def get_best_action(self, state):\n",
        "        state = T.tensor(state).to(self.q.device)\n",
        "        actions = self.q.forward(state)\n",
        "        action = T.argmax(actions).item()\n",
        "\n",
        "        return action\n",
        "\n",
        "    def learn(self, batch_size):\n",
        "        if self.memory.mem_cntr < batch_size:\n",
        "            return\n",
        "\n",
        "        states, actions, rewards, _states, done = self.memory.sample_buffer(batch_size)\n",
        "\n",
        "        states = T.tensor(states).to(self.q.device)\n",
        "        _states = T.tensor(_states).to(self.q_target.device)\n",
        "\n",
        "        q_test = self.q(states)\n",
        "        with T.no_grad():\n",
        "            q_next = self.q_target.forward(_states).cpu().detach().numpy()\n",
        "            q_target = q_test.cpu().detach().numpy().copy()\n",
        "\n",
        "            max_actions = np.argmax(q_next, axis=1)\n",
        "\n",
        "            batch_index = np.arange(batch_size, dtype=np.int32)\n",
        "\n",
        "            q_target[batch_index, actions] = rewards + self.gamma * q_next[batch_index, max_actions] * (1-done)\n",
        "            q_target = T.tensor(q_target).to(self.q.device)\n",
        "\n",
        "        q_pred = self.q(states)\n",
        "        self.q.optimizer.zero_grad()\n",
        "        loss = self.q.loss(q_pred, q_target).to(self.q.device)\n",
        "        loss.backward()\n",
        "        self.q.optimizer.step()\n",
        "\n",
        "    def update_epsilon_value(self):\n",
        "        self.epsilon = self.epsilon - self.epsilon_decay if self.epsilon > self.epsilon_min else self.epsilon_min\n",
        "\n",
        "    def update_weights(self):\n",
        "        self.q_target.load_state_dict(self.q.state_dict())"
      ]
    },
    {
      "cell_type": "markdown",
      "metadata": {
        "id": "3b0_Ha6PpIjD"
      },
      "source": [
        "Now let's try out our agent to see if it raises any errors."
      ]
    },
    {
      "cell_type": "code",
      "execution_count": 35,
      "metadata": {},
      "outputs": [],
      "source": [
        "def play_and_record(agent, env, n_steps=1):\n",
        "    state = env.framebuffer\n",
        "    cum_reward = 0\n",
        "\n",
        "    for n in range(n_steps):\n",
        "        state = np.expand_dims(state, axis=0)\n",
        "        action = agent.choose_action(state)\n",
        "        _state, reward, terminal, _ = env.step(action)\n",
        "        cum_reward += reward\n",
        "\n",
        "        agent.store_transition(state, action, reward, _state, terminal)\n",
        "        state = _state\n",
        "\n",
        "        if terminal:\n",
        "            state = env.reset()\n",
        "\n",
        "    return cum_reward"
      ]
    },
    {
      "cell_type": "code",
      "execution_count": 36,
      "metadata": {
        "collapsed": true,
        "id": "vEGIgty6pIjD"
      },
      "outputs": [],
      "source": [
        "def evaluate(env, agent, n_games=1, greedy=False, t_max=10000):\n",
        "    \"\"\" Plays n_games full games. If greedy, picks actions as argmax(qvalues). Returns mean reward. \"\"\"\n",
        "    rewards = []\n",
        "    for _ in range(n_games):\n",
        "        state = env.reset()\n",
        "        reward = 0\n",
        "        for _ in range(t_max):\n",
        "            state = np.expand_dims(state, axis=0)\n",
        "            action = agent.get_best_action(state) if greedy else agent.choose_action(state)\n",
        "            state, r, done, _ = env.step(action)\n",
        "            reward += r\n",
        "            if done:\n",
        "                break\n",
        "                \n",
        "        rewards.append(reward)\n",
        "    return np.mean(rewards)"
      ]
    },
    {
      "cell_type": "code",
      "execution_count": null,
      "metadata": {
        "collapsed": true,
        "id": "TeIZ-tFXpIjE"
      },
      "outputs": [],
      "source": [
        "EPOCHS = 100_000\n",
        "BATCH_SIZE = 64\n",
        "\n",
        "agent = DDQNAgent(env.observation_space.shape, env.action_space.n, learning_rate=1e-3)"
      ]
    },
    {
      "cell_type": "code",
      "execution_count": 46,
      "metadata": {},
      "outputs": [],
      "source": [
        "from tqdm import tqdm\n",
        "from IPython.display import clear_output\n",
        "import matplotlib.pyplot as plt\n",
        "%matplotlib inline\n",
        "\n",
        "mean_rw_history = []\n",
        "epsilons = []"
      ]
    },
    {
      "cell_type": "code",
      "execution_count": null,
      "metadata": {},
      "outputs": [
        {
          "name": "stdout",
          "output_type": "stream",
          "text": [
            "epsilon = 0.74500\n",
            "epoch 24600: mean reward = 0.667\n"
          ]
        },
        {
          "data": {
            "image/png": "[encoded data removed]",
            "text/plain": [
              "<Figure size 640x480 with 2 Axes>"
            ]
          },
          "metadata": {},
          "output_type": "display_data"
        },
        {
          "name": "stderr",
          "output_type": "stream",
          "text": [
            " 25%|██▍       | 24662/100000 [26:34<1:11:14, 17.62it/s]"
          ]
        }
      ],
      "source": [
        "progress_bar = tqdm(range(EPOCHS))\n",
        "for i in progress_bar:\n",
        "    \n",
        "    # play\n",
        "    play_and_record(agent, env, 10)\n",
        "    \n",
        "    # train\n",
        "    agent.learn(BATCH_SIZE)\n",
        "    \n",
        "    # adjust agent parameters\n",
        "    if i % 500 == 0:\n",
        "        agent.update_weights()\n",
        "        agent.update_epsilon_value()\n",
        "        mean_rw_history.append(evaluate(make_env(), agent, n_games=3))\n",
        "        epsilons.append(agent.epsilon)\n",
        "\n",
        "    if i % 100 == 0:\n",
        "        clear_output(True)\n",
        "        print(\"epsilon = %.5f\" % agent.epsilon)\n",
        "        print(f'epoch {i}: mean reward = {mean_rw_history[-1]:.3f}')\n",
        "\n",
        "        # plt.title(\"mean reward per game\")\n",
        "\n",
        "        fig, ax1 = plt.subplots()\n",
        "\n",
        "        color = 'tab:red'\n",
        "        ax1.set_xlabel('Game')\n",
        "        ax1.set_ylabel('Average score', color=color)\n",
        "        ax1.plot(mean_rw_history, color=color)\n",
        "        ax1.tick_params(axis='y', labelcolor=color)\n",
        "\n",
        "        ax2 = ax1.twinx()  # instantiate a second axes that shares the same x-axis\n",
        "\n",
        "        color = 'tab:blue'\n",
        "        ax2.set_ylabel('Epsilon', color=color)  # we already handled the x-label with ax1\n",
        "        ax2.plot(epsilons, color=color)\n",
        "        ax2.tick_params(axis='y', labelcolor=color)\n",
        "\n",
        "        fig.tight_layout()  # otherwise the right y-label is slightly clipped\n",
        "        plt.show()"
      ]
    },
    {
      "cell_type": "code",
      "execution_count": null,
      "metadata": {},
      "outputs": [],
      "source": [
        "eval = evaluate(make_env(), agent, n_games=10)"
      ]
    },
    {
      "cell_type": "code",
      "execution_count": 42,
      "metadata": {},
      "outputs": [
        {
          "name": "stdout",
          "output_type": "stream",
          "text": [
            "Average score: 1.0\n"
          ]
        }
      ],
      "source": [
        "print(f'Average score: {eval}')"
      ]
    }
  ],
  "metadata": {
    "anaconda-cloud": {},
    "colab": {
      "provenance": []
    },
    "kernelspec": {
      "display_name": ".venv",
      "language": "python",
      "name": "python3"
    },
    "language_info": {
      "codemirror_mode": {
        "name": "ipython",
        "version": 3
      },
      "file_extension": ".py",
      "mimetype": "text/x-python",
      "name": "python",
      "nbconvert_exporter": "python",
      "pygments_lexer": "ipython3",
      "version": "3.11.9"
    }
  },
  "nbformat": 4,
  "nbformat_minor": 0
}
